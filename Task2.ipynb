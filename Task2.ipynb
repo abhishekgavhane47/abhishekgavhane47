pip install opencv-python
Requirement already satisfied: opencv-python in c:\users\sai\anaconda3\lib\site-packages (4.6.0.66)
Requirement already satisfied: numpy>=1.17.3 in c:\users\sai\anaconda3\lib\site-packages (from opencv-python) (1.20.1)
import cv2
from matplotlib import pyplot as plt
path=r'C:\Users\sai\Desktop\PBL project\report\tree.jpg'
image=cv2.imread(path)
window_name='image'
cv2.imshow(window_name,image)
 
%matplotlib inline
img_rgb=cv2.cvtColor(image,cv2.COLOR_BGR2RGB)
plt.imshow(img_rgb)
<matplotlib.image.AxesImage at 0x22b39a371c0>

gray_image=cv2.cvtColor(image,cv2.COLOR_BGR2GRAY)
gray_image
plt.imshow(gray_image)
<matplotlib.image.AxesImage at 0x22b39d42c10>

inverted_image=255 - gray_image
#inverted_image=cv2.bitwise_not(gray_image)
plt.imshow(inverted_image)
<matplotlib.image.AxesImage at 0x22b39dba040>

blurred=cv2.GaussianBlur(inverted_image,(21,21),0)
plt.imshow(blurred)
<matplotlib.image.AxesImage at 0x22b39e09d90>

inverted_blurred=255-blurred
pencil_sketch=cv2.divide(gray_image,inverted_blurred,scale=256.0)
plt.imshow(pencil_sketch)
<matplotlib.image.AxesImage at 0x22b39e65b20>

cv2.imshow("Tree sketch",pencil_sketch)
cv2.imshow("Original image",image)
cv2.imshow("pencil sketch",pencil_sketch)
THANK YOU
